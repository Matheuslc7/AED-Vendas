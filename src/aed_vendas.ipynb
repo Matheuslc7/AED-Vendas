{
 "cells": [
  {
   "cell_type": "code",
   "execution_count": 1,
   "id": "e87197b3-698e-4595-bc4e-a34802c246f7",
   "metadata": {},
   "outputs": [],
   "source": [
    "#Importing Libraries\n",
    "import os\n",
    "import pandas as pd\n",
    "import matplotlib.pyplot as plt\n",
    "import seaborn as sns"
   ]
  },
  {
   "cell_type": "code",
   "execution_count": null,
   "id": "8cfcc79f-ca6d-45c6-9974-e0c8fd3bcc6b",
   "metadata": {},
   "outputs": [],
   "source": [
    "#Function to Load Data\n",
    "def load_data(file_path=\"data_input/vendas.xlsx\"):\n",
    "    \"\"\"Carrega o arquivo Excel de vendas.\"\"\"\n",
    "    if os.path.exists(file_path):\n",
    "        return pd.read_excel(file_path)\n",
    "    else:\n",
    "        print(\"Arquivo de dados não encontrado. Certifique-se de colocar 'vendas.xlsx' em 'data_input/'.\")\n",
    "        return None\n",
    "\n",
    "# Carregar os dados\n",
    "df = load_data()\n"
   ]
  },
  {
   "cell_type": "code",
   "execution_count": null,
   "id": "036fa01f-0225-4a4e-9da7-34ee24c7a274",
   "metadata": {},
   "outputs": [],
   "source": [
    "#Function of viewing the main customers by quantity Functions for Visualization\n",
    "def plot_top_clientes_quantidade(df):\n",
    "    \"\"\"Gera gráfico dos 10 clientes que mais compraram (Quantidade).\"\"\"\n",
    "    top_clientes_qtd = df.groupby(\"Cliente\")[\"Quantidade\"].sum().sort_values(ascending=False).head(10)\n",
    "    plt.figure(figsize=(12, 6))\n",
    "    ax = sns.barplot(x=top_clientes_qtd.index, y=top_clientes_qtd.values, palette='Blues_r')\n",
    "    plt.title(\"Top 10 Clientes que Mais Compraram - Quantidade\", fontsize=14)\n",
    "    plt.xlabel(\"Cliente\")\n",
    "    plt.ylabel(\"Quantidade\")\n",
    "    plt.xticks(rotation=45)\n",
    "    plt.legend([\"Quantidade\"], loc='upper center', bbox_to_anchor=(0.5, 1.15), ncol=1)\n",
    "    for p in ax.patches:\n",
    "        ax.annotate(f'{p.get_height():,.0f}', (p.get_x() + p.get_width() / 2, p.get_height()), ha='center', va='bottom', fontsize=10, color='black')\n",
    "    plt.savefig(\"images/top_clientes_quantidade.png\")\n",
    "    plt.show()\n"
   ]
  },
  {
   "cell_type": "code",
   "execution_count": 4,
   "id": "b4f4adc6-976f-43db-b9ad-d5501b4caea6",
   "metadata": {},
   "outputs": [],
   "source": [
    "#Function of viewing the main customers by value\n",
    "def plot_top_clientes_valor(df):\n",
    "    \"\"\"Gera gráfico dos 10 clientes que mais compraram (Valor Total).\"\"\"\n",
    "    top_clientes_valor = df.groupby(\"Cliente\")[\"Vr. Total\"].sum().sort_values(ascending=False).head(10)\n",
    "    plt.figure(figsize=(12, 6))\n",
    "    ax = sns.barplot(x=top_clientes_valor.index, y=top_clientes_valor.values, palette='Reds_r')\n",
    "    plt.title(\"Top 10 Clientes que Mais Compraram - Valor Total\", fontsize=14)\n",
    "    plt.xlabel(\"Cliente\")\n",
    "    plt.ylabel(\"Valor Total (R$)\")\n",
    "    plt.xticks(rotation=45)\n",
    "    plt.legend([\"Valor Total (R$)\"], loc='upper center', bbox_to_anchor=(0.5, 1.15), ncol=1)\n",
    "    for p in ax.patches:\n",
    "        ax.annotate(f'R$ {p.get_height():,.2f}', (p.get_x() + p.get_width() / 2, p.get_height()), ha='center', va='bottom', fontsize=10, color='black')\n",
    "    plt.savefig(\"images/top_clientes_valor.png\")\n",
    "    plt.show()\n",
    "    "
   ]
  },
  {
   "cell_type": "code",
   "execution_count": 5,
   "id": "68e83cdd-e7d7-4e7a-9bbd-0e347e58a368",
   "metadata": {},
   "outputs": [],
   "source": [
    "#Function of the main references by quantity sold\n",
    "def plot_top_ref_quantidade(df):\n",
    "    \"\"\"Gera gráfico das referências mais vendidas (Quantidade).\"\"\"\n",
    "    top_referencias_qtd = df.groupby(\"Referência\")[\"Quantidade\"].sum().sort_values(ascending=False).head(10)\n",
    "    plt.figure(figsize=(12, 6))\n",
    "    ax = sns.barplot(x=top_referencias_qtd.index, y=top_referencias_qtd.values, palette='Greens_r')\n",
    "    plt.title(\"Top 10 Referências Mais Vendidas - Quantidade\", fontsize=14)\n",
    "    plt.xlabel(\"Referência\")\n",
    "    plt.ylabel(\"Quantidade\")\n",
    "    plt.xticks(rotation=45)\n",
    "    plt.legend([\"Quantidade\"], loc='upper center', bbox_to_anchor=(0.5, 1.15), ncol=1)\n",
    "    for p in ax.patches:\n",
    "        ax.annotate(f'{p.get_height():,.0f}', (p.get_x() + p.get_width() / 2, p.get_height()), ha='center', va='bottom', fontsize=10, color='black')\n",
    "    plt.savefig(\"images/top_referencias_quantidade.png\")\n",
    "    plt.show()\n"
   ]
  },
  {
   "cell_type": "code",
   "execution_count": 6,
   "id": "faf2c89e-b61b-472a-aa4b-050103439f44",
   "metadata": {},
   "outputs": [],
   "source": [
    "#Function of the main references by value\n",
    "def plot_top_ref_valor(df):\n",
    "    top_referencias_valor = df.groupby(\"Referência\")[\"Vr. Total\"].sum().sort_values(ascending=False).head(10)\n",
    "    plt.figure(figsize=(12, 6))\n",
    "    ax = sns.barplot(x=top_referencias_valor.index, y=top_referencias_valor.values, palette='Oranges_r')\n",
    "    plt.title(\"Top 10 Referências Mais Vendidas - Valor Total\", fontsize=14)\n",
    "    plt.xlabel(\"Referência\")\n",
    "    plt.ylabel(\"Valor Total (R$)\")\n",
    "    plt.xticks(rotation=45)\n",
    "    plt.legend([\"Valor Total (R$)\"], loc='upper center', bbox_to_anchor=(0.5, 1.15), ncol=1)\n",
    "    for p in ax.patches:\n",
    "        ax.annotate(f'R$ {p.get_height():,.2f}', (p.get_x() + p.get_width() / 2, p.get_height()), ha='center', va='bottom', fontsize=10, color='black')\n",
    "    plt.savefig(\"images/top_referencias_valor.png\")\n",
    "    plt.show()"
   ]
  },
  {
   "cell_type": "code",
   "execution_count": 7,
   "id": "ca36eab6-6aab-4b15-aca9-da7f2563213d",
   "metadata": {},
   "outputs": [],
   "source": [
    "#Calls for Graph Generation\n",
    "if df is not None:\n",
    "    plot_top_clientes_quantidade(df)\n",
    "    plot_top_clientes_valor(df)\n"
   ]
  }
 ],
 "metadata": {
  "kernelspec": {
   "display_name": "Python 3 (ipykernel)",
   "language": "python",
   "name": "python3"
  },
  "language_info": {
   "codemirror_mode": {
    "name": "ipython",
    "version": 3
   },
   "file_extension": ".py",
   "mimetype": "text/x-python",
   "name": "python",
   "nbconvert_exporter": "python",
   "pygments_lexer": "ipython3",
   "version": "3.11.5"
  }
 },
 "nbformat": 4,
 "nbformat_minor": 5
}
